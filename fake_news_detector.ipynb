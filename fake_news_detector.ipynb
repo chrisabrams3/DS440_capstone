{
 "cells": [
  {
   "cell_type": "code",
   "execution_count": 1,
   "metadata": {},
   "outputs": [],
   "source": [
    "import pandas as pd\n",
    "from sklearn.model_selection import train_test_split\n",
    "from sklearn.feature_extraction.text import TfidfVectorizer\n",
    "from sklearn.linear_model import LogisticRegression\n",
    "from sklearn.metrics import accuracy_score, classification_report"
   ]
  },
  {
   "cell_type": "code",
   "execution_count": 2,
   "metadata": {},
   "outputs": [],
   "source": [
    "# Step 1: Data Preprocessing\n",
    "true_news = pd.read_csv('true.csv')\n",
    "fake_news = pd.read_csv('fake.csv')\n",
    "\n",
    "true_news['label'] = 0      #fake\n",
    "fake_news['label'] = 1      #true\n",
    "\n",
    "data = pd.concat([true_news, fake_news], ignore_index=True)"
   ]
  },
  {
   "cell_type": "code",
   "execution_count": 3,
   "metadata": {},
   "outputs": [
    {
     "name": "stdout",
     "output_type": "stream",
     "text": [
      "                                                   title  \\\n",
      "0      As U.S. budget fight looms, Republicans flip t...   \n",
      "1      U.S. military to accept transgender recruits o...   \n",
      "2      Senior U.S. Republican senator: 'Let Mr. Muell...   \n",
      "3      FBI Russia probe helped by Australian diplomat...   \n",
      "4      Trump wants Postal Service to charge 'much mor...   \n",
      "...                                                  ...   \n",
      "21412  'Fully committed' NATO backs new U.S. approach...   \n",
      "21413  LexisNexis withdrew two products from Chinese ...   \n",
      "21414  Minsk cultural hub becomes haven from authorities   \n",
      "21415  Vatican upbeat on possibility of Pope Francis ...   \n",
      "21416  Indonesia to buy $1.14 billion worth of Russia...   \n",
      "\n",
      "                                                    text       subject  \\\n",
      "0      WASHINGTON (Reuters) - The head of a conservat...  politicsNews   \n",
      "1      WASHINGTON (Reuters) - Transgender people will...  politicsNews   \n",
      "2      WASHINGTON (Reuters) - The special counsel inv...  politicsNews   \n",
      "3      WASHINGTON (Reuters) - Trump campaign adviser ...  politicsNews   \n",
      "4      SEATTLE/WASHINGTON (Reuters) - President Donal...  politicsNews   \n",
      "...                                                  ...           ...   \n",
      "21412  BRUSSELS (Reuters) - NATO allies on Tuesday we...     worldnews   \n",
      "21413  LONDON (Reuters) - LexisNexis, a provider of l...     worldnews   \n",
      "21414  MINSK (Reuters) - In the shadow of disused Sov...     worldnews   \n",
      "21415  MOSCOW (Reuters) - Vatican Secretary of State ...     worldnews   \n",
      "21416  JAKARTA (Reuters) - Indonesia will buy 11 Sukh...     worldnews   \n",
      "\n",
      "                     date  label  \n",
      "0      December 31, 2017       0  \n",
      "1      December 29, 2017       0  \n",
      "2      December 31, 2017       0  \n",
      "3      December 30, 2017       0  \n",
      "4      December 29, 2017       0  \n",
      "...                   ...    ...  \n",
      "21412    August 22, 2017       0  \n",
      "21413    August 22, 2017       0  \n",
      "21414    August 22, 2017       0  \n",
      "21415    August 22, 2017       0  \n",
      "21416    August 22, 2017       0  \n",
      "\n",
      "[21417 rows x 5 columns]\n"
     ]
    }
   ],
   "source": [
    "print(true_news)"
   ]
  },
  {
   "cell_type": "code",
   "execution_count": 4,
   "metadata": {},
   "outputs": [],
   "source": [
    "# Step 2: Text Preprocessing\n",
    "vectorizer = TfidfVectorizer(stop_words='english')\n",
    "X = vectorizer.fit_transform(data['text'])\n",
    "y = data['label']"
   ]
  },
  {
   "cell_type": "code",
   "execution_count": 5,
   "metadata": {},
   "outputs": [
    {
     "data": {
      "text/plain": [
       "LogisticRegression()"
      ]
     },
     "execution_count": 5,
     "metadata": {},
     "output_type": "execute_result"
    }
   ],
   "source": [
    "#Step 3: model training\n",
    "# Split the data into train and test sets (80% train, 20% test)\n",
    "X_train, X_test, y_train, y_test = train_test_split(X, y, test_size=0.2, random_state=42)\n",
    "\n",
    "# Further split the training set into train and validation sets (60% train, 20% validation)\n",
    "X_train, X_val, y_train, y_val = train_test_split(X_train, y_train, test_size=0.25, random_state=42)\n",
    "\n",
    "model = LogisticRegression()\n",
    "model.fit(X_train, y_train)"
   ]
  },
  {
   "cell_type": "code",
   "execution_count": 6,
   "metadata": {},
   "outputs": [
    {
     "name": "stdout",
     "output_type": "stream",
     "text": [
      "Validation Accuracy: 0.9848552338530067\n",
      "Classification Report:\n",
      "              precision    recall  f1-score   support\n",
      "\n",
      "           0       0.98      0.99      0.98      4244\n",
      "           1       0.99      0.98      0.99      4736\n",
      "\n",
      "    accuracy                           0.98      8980\n",
      "   macro avg       0.98      0.98      0.98      8980\n",
      "weighted avg       0.98      0.98      0.98      8980\n",
      "\n"
     ]
    }
   ],
   "source": [
    "# Step 4: Testing the model using the validation set\n",
    "y_val_pred = model.predict(X_val)\n",
    "\n",
    "# Calculate accuracy\n",
    "val_accuracy = accuracy_score(y_val, y_val_pred)\n",
    "print(\"Validation Accuracy:\", val_accuracy)\n",
    "\n",
    "# Generate classification report\n",
    "print(\"Classification Report:\")\n",
    "print(classification_report(y_val, y_val_pred))"
   ]
  },
  {
   "cell_type": "code",
   "execution_count": 8,
   "metadata": {},
   "outputs": [
    {
     "data": {
      "text/plain": [
       "['tfidf_vectorizer.pkl']"
      ]
     },
     "execution_count": 8,
     "metadata": {},
     "output_type": "execute_result"
    }
   ],
   "source": [
    "#saving model and vectorizer\n",
    "import joblib\n",
    "\n",
    "# Assuming 'model' is your trained model and 'vectorizer' is your trained vectorizer\n",
    "joblib.dump(model, 'fake_news_model.pkl')\n",
    "joblib.dump(vectorizer, 'tfidf_vectorizer.pkl')"
   ]
  },
  {
   "cell_type": "code",
   "execution_count": 7,
   "metadata": {},
   "outputs": [
    {
     "name": "stdout",
     "output_type": "stream",
     "text": [
      "Prediction: Fake\n",
      "Confidence Score: 0.9918936862953632\n"
     ]
    }
   ],
   "source": [
    "new_article_text = \"The religious right movement is not the same movement anymore.And Frank Schaeffer would know. After all, he helped his father create it.The movement originally began as an anti-abortion organization specifically designed to bring angry Christians to the voting booth. But has since become something even more insidious.In recent years, conservative  Christians  have become one giant hate group that supports Nazism and rape while working to strip women, minorities and gay people of their constitutional rights.During an appearance on AM Joy on Saturday, Schaeffer roundly condemned the Christian Right and the Republican Party in a smack down of Biblical proportion taking particular aim at Roy Moore and Donald Trump, whom conservatives are supporting despite several sexual abuse and assault allegations against them and Trump s own refusal to condemn Nazis. Back in the day when my dad and me were going around the country establishing the religious right based on our anti-abortion stand, one I ve moved a long way from since, the whole idea was bringing America back to some moral stand,  Schaeffer began. Think about the Republican Party now,  Schaeffer continued.  Throw some words out that are associated with them: mass shootings, Milo, Trump, Moore, Bannon, rape, child molesting, neo-Nazis, white supremacy. What the hell is going on with the Republican Party? I m not shocked by Donald Trump, he s an ass. I m not shocked by Roy Moore. he s a loud mouth, a gun-toting fool. What I m shocked by is the complicity. We are in a political climate that s built on one lie after another. I just want to say for the record, by the way, I believe a woman who stands up, which is very difficult to do and comes forward with a story like that. She was a Trump voter. She s a Republican. I believe her. I just want to say that as a father and grandfather and someone that respects women that I believe her. Here s the video via YouTube.Conservative  Christians  and Republicans should pay attention to what Schaeffer says. Clearly, the movement he helped create has turned into a monster that is far removed from the teachings of Jesus and the Bible. That is evidenced by the fact that conservatives are perverting the Bible to defend Moore s predatory behavior.It s time for the American people to wake up and put an end to the Christian Right. They have never represented the values of the American people and they work every day to undermine our nation in an effort to turn it into their perverted and hateful version of a Christian utopia. Their insanity must be stopped.Featured Image: Screenshot\"\n",
    "new_article_vectorized = vectorizer.transform([new_article_text])\n",
    "prediction = model.predict(new_article_vectorized)\n",
    "confidence = model.predict_proba(new_article_vectorized)[0][1]  # Confidence for fake news\n",
    "print(\"Prediction:\", \"Fake\" if prediction == 1 else \"True\")\n",
    "print(\"Confidence Score:\", confidence)"
   ]
  }
 ],
 "metadata": {
  "kernelspec": {
   "display_name": "base",
   "language": "python",
   "name": "python3"
  },
  "language_info": {
   "codemirror_mode": {
    "name": "ipython",
    "version": 3
   },
   "file_extension": ".py",
   "mimetype": "text/x-python",
   "name": "python",
   "nbconvert_exporter": "python",
   "pygments_lexer": "ipython3",
   "version": "3.9.13"
  }
 },
 "nbformat": 4,
 "nbformat_minor": 2
}
