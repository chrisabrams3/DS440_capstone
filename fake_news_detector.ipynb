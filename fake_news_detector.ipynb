{
 "cells": [
  {
   "cell_type": "code",
   "execution_count": 2,
   "metadata": {},
   "outputs": [],
   "source": [
    "import pandas as pd\n",
    "from sklearn.model_selection import train_test_split\n",
    "from sklearn.feature_extraction.text import TfidfVectorizer\n",
    "from sklearn.linear_model import LogisticRegression\n",
    "from sklearn.metrics import accuracy_score, classification_report"
   ]
  },
  {
   "cell_type": "code",
   "execution_count": 3,
   "metadata": {},
   "outputs": [],
   "source": [
    "# Step 1: Data Preprocessing\n",
    "true_news = pd.read_csv('true.csv')\n",
    "fake_news = pd.read_csv('fake.csv')\n",
    "\n",
    "true_news['label'] = 0\n",
    "fake_news['label'] = 1\n",
    "\n",
    "data = pd.concat([true_news, fake_news], ignore_index=True)"
   ]
  },
  {
   "cell_type": "code",
   "execution_count": null,
   "metadata": {},
   "outputs": [],
   "source": [
    "print(true_news)"
   ]
  },
  {
   "cell_type": "code",
   "execution_count": 8,
   "metadata": {},
   "outputs": [],
   "source": [
    "# Step 2: Text Preprocessing\n",
    "vectorizer = TfidfVectorizer(stop_words='english')\n",
    "X = vectorizer.fit_transform(data['text'])\n",
    "y = data['label']"
   ]
  },
  {
   "cell_type": "code",
   "execution_count": 10,
   "metadata": {},
   "outputs": [
    {
     "data": {
      "text/plain": [
       "LogisticRegression()"
      ]
     },
     "execution_count": 10,
     "metadata": {},
     "output_type": "execute_result"
    }
   ],
   "source": [
    "#Step 3: model training\n",
    "# Split the data into train and test sets (80% train, 20% test)\n",
    "X_train, X_test, y_train, y_test = train_test_split(X, y, test_size=0.2, random_state=42)\n",
    "\n",
    "# Further split the training set into train and validation sets (60% train, 20% validation)\n",
    "X_train, X_val, y_train, y_val = train_test_split(X_train, y_train, test_size=0.25, random_state=42)\n",
    "\n",
    "model = LogisticRegression()\n",
    "model.fit(X_train, y_train)"
   ]
  },
  {
   "cell_type": "code",
   "execution_count": 11,
   "metadata": {},
   "outputs": [
    {
     "name": "stdout",
     "output_type": "stream",
     "text": [
      "Training Accuracy: 0.9904224515554235\n",
      "Classification Report:\n",
      "              precision    recall  f1-score   support\n",
      "\n",
      "           0       0.99      0.99      0.99     12843\n",
      "           1       0.99      0.99      0.99     14095\n",
      "\n",
      "    accuracy                           0.99     26938\n",
      "   macro avg       0.99      0.99      0.99     26938\n",
      "weighted avg       0.99      0.99      0.99     26938\n",
      "\n"
     ]
    }
   ],
   "source": [
    "# Step 5: Testing the model using the training set\n",
    "y_train_pred = model.predict(X_train)\n",
    "\n",
    "# Calculate accuracy\n",
    "train_accuracy = accuracy_score(y_train, y_train_pred)\n",
    "print(\"Training Accuracy:\", train_accuracy)\n",
    "\n",
    "# Generate classification report\n",
    "print(\"Classification Report:\")\n",
    "print(classification_report(y_train, y_train_pred))"
   ]
  },
  {
   "cell_type": "code",
   "execution_count": null,
   "metadata": {},
   "outputs": [],
   "source": [
    "print(X_test)"
   ]
  },
  {
   "cell_type": "code",
   "execution_count": 14,
   "metadata": {},
   "outputs": [
    {
     "name": "stdout",
     "output_type": "stream",
     "text": [
      "Prediction: Fake\n",
      "Confidence Score: 0.9918936862953632\n"
     ]
    }
   ],
   "source": [
    "new_article_text = \"The religious right movement is not the same movement anymore.And Frank Schaeffer would know. After all, he helped his father create it.The movement originally began as an anti-abortion organization specifically designed to bring angry Christians to the voting booth. But has since become something even more insidious.In recent years, conservative  Christians  have become one giant hate group that supports Nazism and rape while working to strip women, minorities and gay people of their constitutional rights.During an appearance on AM Joy on Saturday, Schaeffer roundly condemned the Christian Right and the Republican Party in a smack down of Biblical proportion taking particular aim at Roy Moore and Donald Trump, whom conservatives are supporting despite several sexual abuse and assault allegations against them and Trump s own refusal to condemn Nazis. Back in the day when my dad and me were going around the country establishing the religious right based on our anti-abortion stand, one I ve moved a long way from since, the whole idea was bringing America back to some moral stand,  Schaeffer began. Think about the Republican Party now,  Schaeffer continued.  Throw some words out that are associated with them: mass shootings, Milo, Trump, Moore, Bannon, rape, child molesting, neo-Nazis, white supremacy. What the hell is going on with the Republican Party? I m not shocked by Donald Trump, he s an ass. I m not shocked by Roy Moore. he s a loud mouth, a gun-toting fool. What I m shocked by is the complicity. We are in a political climate that s built on one lie after another. I just want to say for the record, by the way, I believe a woman who stands up, which is very difficult to do and comes forward with a story like that. She was a Trump voter. She s a Republican. I believe her. I just want to say that as a father and grandfather and someone that respects women that I believe her. Here s the video via YouTube.Conservative  Christians  and Republicans should pay attention to what Schaeffer says. Clearly, the movement he helped create has turned into a monster that is far removed from the teachings of Jesus and the Bible. That is evidenced by the fact that conservatives are perverting the Bible to defend Moore s predatory behavior.It s time for the American people to wake up and put an end to the Christian Right. They have never represented the values of the American people and they work every day to undermine our nation in an effort to turn it into their perverted and hateful version of a Christian utopia. Their insanity must be stopped.Featured Image: Screenshot\"\n",
    "new_article_vectorized = vectorizer.transform([new_article_text])\n",
    "prediction = model.predict(new_article_vectorized)\n",
    "confidence = model.predict_proba(new_article_vectorized)[0][1]  # Confidence for fake news\n",
    "print(\"Prediction:\", \"Fake\" if prediction == 1 else \"True\")\n",
    "print(\"Confidence Score:\", confidence)"
   ]
  }
 ],
 "metadata": {
  "kernelspec": {
   "display_name": "base",
   "language": "python",
   "name": "python3"
  },
  "language_info": {
   "codemirror_mode": {
    "name": "ipython",
    "version": 3
   },
   "file_extension": ".py",
   "mimetype": "text/x-python",
   "name": "python",
   "nbconvert_exporter": "python",
   "pygments_lexer": "ipython3",
   "version": "3.9.13"
  }
 },
 "nbformat": 4,
 "nbformat_minor": 2
}
